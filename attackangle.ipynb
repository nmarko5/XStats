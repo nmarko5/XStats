{
 "cells": [
  {
   "cell_type": "code",
   "execution_count": 3,
   "metadata": {},
   "outputs": [
    {
     "name": "stdout",
     "output_type": "stream",
     "text": [
      "                  pitch_id_raw pitch_type  zone    description events  \\\n",
      "0  413649_545361_433587_1_24_4         SL  14.0  called_strike    NaN   \n",
      "1   413649_545361_433587_1_2_1         SI  13.0           foul    NaN   \n",
      "2  413649_545361_433587_1_42_6         CU  11.0           ball    NaN   \n",
      "3  413649_545361_433587_2_24_4         CH  13.0           foul    NaN   \n",
      "4   413649_545361_433587_2_2_1         FF   1.0  called_strike    NaN   \n",
      "\n",
      "   launch_speed  launch_angle  bearing_angle  \n",
      "0          90.7          28.7            NaN  \n",
      "1           NaN           NaN            NaN  \n",
      "2           NaN           NaN            NaN  \n",
      "3           NaN           NaN            NaN  \n",
      "4           NaN           NaN            NaN  \n"
     ]
    }
   ],
   "source": [
    "import pandas as pd\n",
    "\n",
    "# Assuming the file is a CSV for this example. Adjust the path and file reading method accordingly if different.\n",
    "file_path = 'C:/Users/nate.marko/Downloads/TroutData.csv'\n",
    "trout_data = pd.read_csv(file_path)\n",
    "\n",
    "# Display the first few rows to confirm successful loading\n",
    "print(trout_data.head())\n"
   ]
  },
  {
   "cell_type": "code",
   "execution_count": 4,
   "metadata": {},
   "outputs": [
    {
     "name": "stdout",
     "output_type": "stream",
     "text": [
      "                   pitch_id_raw pitch_type  zone           description  \\\n",
      "17   413649_545361_433587_8_2_1         SI   5.0   hit_into_play_score   \n",
      "23  413664_545361_500721_2_53_8         FF   8.0  hit_into_play_no_out   \n",
      "28   413664_545361_572020_2_2_1         FF  13.0         hit_into_play   \n",
      "36  413664_545361_572020_6_23_4         KC  14.0         hit_into_play   \n",
      "46  413671_545361_547874_1_35_5         SI   8.0         hit_into_play   \n",
      "\n",
      "       events  launch_speed  launch_angle  bearing_angle  \n",
      "17   home_run         112.1          31.5        -6.8320  \n",
      "23     double         111.5          15.6         9.1710  \n",
      "28  field_out          94.9          29.6        27.5497  \n",
      "36  field_out          71.9          35.6         1.3609  \n",
      "46  field_out          90.2          -3.3       -24.1821  \n"
     ]
    }
   ],
   "source": [
    "# Filtering the data based on the description\n",
    "filtered_data = trout_data[trout_data['description'].isin(['hit_into_play_score', 'hit_into_play_no_out', 'hit_into_play'])]\n",
    "\n",
    "# Display the filtered data\n",
    "print(filtered_data.head())\n"
   ]
  },
  {
   "cell_type": "code",
   "execution_count": 14,
   "metadata": {},
   "outputs": [
    {
     "name": "stdout",
     "output_type": "stream",
     "text": [
      "   launch_speed  launch_angle  bearing_angle  single_count  double_count  \\\n",
      "0            22           -23             40             0             0   \n",
      "1            34            -4             32             0             0   \n",
      "2            35            16            -45             0             0   \n",
      "3            37            16            -11             1             0   \n",
      "4            39           -52             -8             0             0   \n",
      "\n",
      "   triple_count  homerun_count  total_count  \n",
      "0             0              0            1  \n",
      "1             0              0            1  \n",
      "2             0              0            1  \n",
      "3             0              0            1  \n",
      "4             0              0            1  \n"
     ]
    }
   ],
   "source": [
    "filtered_data = filtered_data.dropna(subset=['launch_speed', 'launch_angle', 'bearing_angle'])\n",
    "\n",
    "\n",
    "filtered_data[['launch_speed', 'launch_angle', 'bearing_angle']] = filtered_data[['launch_speed', 'launch_angle', 'bearing_angle']].round(0).astype(int)\n",
    "\n",
    "# Grouping the data by the unique combinations of 'launch_speed', 'launch_angle', 'bearing_angle'\n",
    "# and aggregating the counts for each type of hit outcome\n",
    "hit_outcome_counts = filtered_data.groupby(['launch_speed', 'launch_angle', 'bearing_angle'])['events'].value_counts().unstack(fill_value=0)\n",
    "\n",
    "# Since there are more event types than the ones we're interested in, we'll filter the columns after unstacking\n",
    "desired_outcomes = ['single', 'double', 'triple', 'home_run']\n",
    "hit_outcome_counts = hit_outcome_counts[desired_outcomes]\n",
    "\n",
    "# Renaming columns for clarity after filtering to ensure we only have the columns we're interested in\n",
    "hit_outcome_counts.columns = ['single_count', 'double_count', 'triple_count', 'homerun_count']\n",
    "\n",
    "# Adding a column for the total count of each unique combination, including all events, not just hits\n",
    "hit_outcome_counts['total_count'] = filtered_data.groupby(['launch_speed', 'launch_angle', 'bearing_angle']).size()\n",
    "\n",
    "# Resetting index to make 'launch_speed', 'launch_angle', 'bearing_angle' columns again\n",
    "hit_outcome_counts.reset_index(inplace=True)\n",
    "\n",
    "# Display the new dataframe\n",
    "print(hit_outcome_counts.head())\n"
   ]
  },
  {
   "cell_type": "code",
   "execution_count": 19,
   "metadata": {},
   "outputs": [
    {
     "name": "stdout",
     "output_type": "stream",
     "text": [
      "   launch_speed  launch_angle  bearing_angle  single_count  double_count  \\\n",
      "0            22           -23             40             0             0   \n",
      "1            34            -4             32             0             0   \n",
      "2            35            16            -45             0             0   \n",
      "3            37            16            -11             1             0   \n",
      "4            39           -52             -8             0             0   \n",
      "\n",
      "   triple_count  homerun_count  total_count  hit_sum  batting_average  \n",
      "0             0              0            1        0              0.0  \n",
      "1             0              0            1        0              0.0  \n",
      "2             0              0            1        0              0.0  \n",
      "3             0              0            1        1              1.0  \n",
      "4             0              0            1        0              0.0  \n"
     ]
    }
   ],
   "source": [
    "# Calculating the sum of all hit counts for each combination\n",
    "hit_outcome_counts['hit_sum'] = hit_outcome_counts[['single_count', 'double_count', 'triple_count', 'homerun_count']].sum(axis=1)\n",
    "\n",
    "\n",
    "# Calculating the batting average for each combination\n",
    "hit_outcome_counts['batting_average'] = hit_outcome_counts['hit_sum'] / hit_outcome_counts['total_count']\n",
    "\n",
    "# Display the updated dataframe with the batting average column\n",
    "print(hit_outcome_counts.head())\n"
   ]
  },
  {
   "cell_type": "code",
   "execution_count": 20,
   "metadata": {},
   "outputs": [
    {
     "name": "stdout",
     "output_type": "stream",
     "text": [
      "   launch_speed  launch_angle  bearing_angle  single_count  double_count  \\\n",
      "0            22           -23             40             0             0   \n",
      "1            34            -4             32             0             0   \n",
      "2            35            16            -45             0             0   \n",
      "3            37            16            -11             1             0   \n",
      "4            39           -52             -8             0             0   \n",
      "\n",
      "   triple_count  homerun_count  total_count  hit_sum  batting_average  \\\n",
      "0             0              0            1        0              0.0   \n",
      "1             0              0            1        0              0.0   \n",
      "2             0              0            1        0              0.0   \n",
      "3             0              0            1        1              1.0   \n",
      "4             0              0            1        0              0.0   \n",
      "\n",
      "   average_single  average_double  average_triple  average_homerun  \n",
      "0             0.0             0.0             0.0              0.0  \n",
      "1             0.0             0.0             0.0              0.0  \n",
      "2             0.0             0.0             0.0              0.0  \n",
      "3             1.0             0.0             0.0              0.0  \n",
      "4             0.0             0.0             0.0              0.0  \n"
     ]
    }
   ],
   "source": [
    "# Calculating the average of each outcome by dividing the total amount in those columns by total_count\n",
    "hit_outcome_counts['average_single'] = hit_outcome_counts['single_count'] / hit_outcome_counts['total_count']\n",
    "hit_outcome_counts['average_double'] = hit_outcome_counts['double_count'] / hit_outcome_counts['total_count']\n",
    "hit_outcome_counts['average_triple'] = hit_outcome_counts['triple_count'] / hit_outcome_counts['total_count']\n",
    "hit_outcome_counts['average_homerun'] = hit_outcome_counts['homerun_count'] / hit_outcome_counts['total_count']\n",
    "\n",
    "# Display the updated dataframe with the average outcome columns\n",
    "print(hit_outcome_counts.head())\n"
   ]
  }
 ],
 "metadata": {
  "kernelspec": {
   "display_name": "Python 3",
   "language": "python",
   "name": "python3"
  },
  "language_info": {
   "codemirror_mode": {
    "name": "ipython",
    "version": 3
   },
   "file_extension": ".py",
   "mimetype": "text/x-python",
   "name": "python",
   "nbconvert_exporter": "python",
   "pygments_lexer": "ipython3",
   "version": "3.12.1"
  }
 },
 "nbformat": 4,
 "nbformat_minor": 2
}
