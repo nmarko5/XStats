

import pandas as pd

banger_df = pd.read_csv('Banger.csv')
compScore_df = pd.read_csv('CompScore.csv')
merged_df = pd.merge(banger_df[['playerID', 'Banger%']], compScore_df[['playerID', 'xWOBA', 'New Comp']], on='playerID', how='inner')
merged_df.to_csv('merged_output.csv', index=False)
