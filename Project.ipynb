{
 "cells": [
  {
   "cell_type": "code",
   "execution_count": 2,
   "metadata": {},
   "outputs": [
    {
     "name": "stdout",
     "output_type": "stream",
     "text": [
      "Requirement already satisfied: pandas in c:\\users\\nate.marko\\appdata\\local\\programs\\python\\python312\\lib\\site-packages (2.2.1)\n",
      "Requirement already satisfied: numpy<2,>=1.26.0 in c:\\users\\nate.marko\\appdata\\local\\programs\\python\\python312\\lib\\site-packages (from pandas) (1.26.4)\n",
      "Requirement already satisfied: python-dateutil>=2.8.2 in c:\\users\\nate.marko\\appdata\\roaming\\python\\python312\\site-packages (from pandas) (2.9.0.post0)\n",
      "Requirement already satisfied: pytz>=2020.1 in c:\\users\\nate.marko\\appdata\\local\\programs\\python\\python312\\lib\\site-packages (from pandas) (2024.1)\n",
      "Requirement already satisfied: tzdata>=2022.7 in c:\\users\\nate.marko\\appdata\\local\\programs\\python\\python312\\lib\\site-packages (from pandas) (2024.1)\n",
      "Requirement already satisfied: six>=1.5 in c:\\users\\nate.marko\\appdata\\roaming\\python\\python312\\site-packages (from python-dateutil>=2.8.2->pandas) (1.16.0)\n",
      "Note: you may need to restart the kernel to use updated packages.\n"
     ]
    }
   ],
   "source": [
    "pip install pandas"
   ]
  },
  {
   "cell_type": "code",
   "execution_count": 5,
   "metadata": {},
   "outputs": [
    {
     "name": "stdout",
     "output_type": "stream",
     "text": [
      "   Rank  playerId    abbrevName     playerFullName   player  pos  \\\n",
      "0     1    519317    G. Stanton  Giancarlo Stanton  Stanton   DH   \n",
      "1     2    660271     S. Ohtani      Shohei Ohtani   Ohtani  TWP   \n",
      "2     3    660670  R. Acuña Jr.   Ronald Acuña Jr.    Acuña   RF   \n",
      "3     4    592450      A. Judge        Aaron Judge    Judge   CF   \n",
      "4     5    670242    M. Wallner       Matt Wallner  Wallner   RF   \n",
      "\n",
      "       currentTeamName currentTeamAbbrevName  currentTeamId  \\\n",
      "0     New York Yankees                   NYY          147.0   \n",
      "1  Los Angeles Dodgers                   LAD          119.0   \n",
      "2       Atlanta Braves                   ATL          144.0   \n",
      "3     New York Yankees                   NYY          147.0   \n",
      "4      Minnesota Twins                   MIN          142.0   \n",
      "\n",
      "  currentTeamLocation  ... batsHand throwsHand 90thExitVel New Comp Grade  \\\n",
      "0          NY Yankees  ...        R          R       112.4             56   \n",
      "1          LA Dodgers  ...        L          R       111.0             54   \n",
      "2             Atlanta  ...        R          R       111.0             67   \n",
      "3          NY Yankees  ...        R          R       111.3             61   \n",
      "4           Minnesota  ...        L          R       111.0             57   \n",
      "\n",
      "   BSG   SFG   SDG   wOBA  xWOBA Barrel%  \n",
      "0   80  41.6  46.3  0.297  0.319   20.3%  \n",
      "1   74  43.2  45.8  0.434  0.399   25.5%  \n",
      "2   74  64.5  61.6  0.428  0.444   22.5%  \n",
      "3   73  39.2  70.7  0.420  0.414   33.1%  \n",
      "4   73  36.0  63.2  0.377  0.359   23.3%  \n",
      "\n",
      "[5 rows x 28 columns]\n"
     ]
    }
   ],
   "source": [
    "import pandas as pd\n",
    "\n",
    "trumedia_data = pd.read_csv('~/Desktop/Project/trumedia.csv')\n",
    "print(trumedia_data.head())\n"
   ]
  }
 ],
 "metadata": {
  "kernelspec": {
   "display_name": "Python 3",
   "language": "python",
   "name": "python3"
  },
  "language_info": {
   "name": "python",
   "version": "3.12.2"
  }
 },
 "nbformat": 4,
 "nbformat_minor": 2
}
